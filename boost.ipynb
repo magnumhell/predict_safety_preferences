{
 "cells": [
  {
   "cell_type": "code",
   "execution_count": 1,
   "metadata": {},
   "outputs": [],
   "source": [
    "safety <- read.csv(\"train.csv\")\n",
    "safety$Choice[safety$Ch1==\"1\"] <- 0\n",
    "safety$Choice[safety$Ch2==\"1\"] <- 1\n",
    "safety$Choice[safety$Ch3==\"1\"] <- 2\n",
    "safety$Choice[safety$Ch4==\"1\"] <- 3"
   ]
  },
  {
   "cell_type": "code",
   "execution_count": 2,
   "metadata": {},
   "outputs": [
    {
     "name": "stderr",
     "output_type": "stream",
     "text": [
      "Loading required package: lattice\n",
      "Loading required package: ggplot2\n",
      "Warning message:\n",
      "“package ‘dplyr’ was built under R version 3.5.1”\n",
      "Attaching package: ‘dplyr’\n",
      "\n",
      "The following object is masked from ‘package:xgboost’:\n",
      "\n",
      "    slice\n",
      "\n",
      "The following objects are masked from ‘package:stats’:\n",
      "\n",
      "    filter, lag\n",
      "\n",
      "The following objects are masked from ‘package:base’:\n",
      "\n",
      "    intersect, setdiff, setequal, union\n",
      "\n"
     ]
    }
   ],
   "source": [
    "# install.packages(\"XML\")\n",
    "library(\"xgboost\")  # the main algorithm\n",
    "library(\"archdata\") # for the sample dataset\n",
    "library(\"caret\")    # for the confusionmatrix() function (also needs e1071 package)\n",
    "library(\"dplyr\")    # for some data preperation\n",
    "library(\"Ckmeans.1d.dp\") # for xgb.ggplot.importance"
   ]
  },
  {
   "cell_type": "code",
   "execution_count": 3,
   "metadata": {},
   "outputs": [],
   "source": [
    "# function to calculate multinomial logloss\n",
    "logLoss <- function(pred, actual){\n",
    "  -1*mean(log(pred[model.matrix(~ actual + 0) - pred > 0]))\n",
    "}\n",
    "\n",
    "# original_vector<-c('Case','No','Task','CC1','GN1','NS1','BU1', 'FA1' ,'LD1', 'BZ1', 'FC1', 'FP1', 'RP1' ,'PP1' ,\n",
    "#                 'KA1', 'SC1', 'TS1', 'NV1', 'MA1', 'LB1' ,'AF1' ,'HU1' ,'Price1' ,'CC2' ,'GN2', 'NS2', 'BU2' ,\n",
    "#                 'FA2', 'LD2', 'BZ2', 'FC2', 'FP2', 'RP2' ,'PP2', 'KA2' ,'SC2' ,'TS2' ,'NV2', 'MA2' ,'LB2', 'AF2' ,\n",
    "#                 'HU2', 'Price2' ,'CC3' ,'GN3', 'NS3', 'BU3' ,'FA3', 'LD3' ,'BZ3' ,'FC3', 'FP3', 'RP3', 'PP3' ,'KA3',\n",
    "#                 'SC3' ,'TS3' ,'NV3' ,'MA3' ,'LB3', 'AF3', 'HU3' ,'Price3', 'CC4', 'GN4', 'NS4', 'BU4' ,'FA4', 'LD4',\n",
    "#                 'BZ4' ,'FC4' ,'FP4' ,'RP4', 'PP4' ,'KA4', 'SC4' ,'TS4' ,'NV4', 'MA4', 'LB4', 'AF4' ,'HU4', 'Price4',\n",
    "#                 'segmentind' , 'yearind','milesind','milesa','nightind','nighta' , 'pparkind','genderind', 'ageind',\n",
    "#                 'agea','educind', 'regionind', 'Urbind', 'incomeind', 'incomea' , 'Choice')\n",
    "# dat <- safety[c('Case','No','Task','CC1','GN1'  ,'BU1', 'FA1'     , 'BZ1', 'FP1', 'RP1' ,'PP1' ,\n",
    "#                 'KA1', 'SC1', 'TS1', 'NV1', 'LB1' ,'AF1' ,'HU1' ,'Price1' ,'CC2' , 'NS2', 'BU2' ,\n",
    "#                 'FA2', 'LD2', 'BZ2', 'FP2', 'RP2' ,'PP2' ,'SC2' ,'TS2' ,'NV2', 'MA2'     , 'AF2' ,\n",
    "#                 'HU2', 'Price2' ,'CC3' ,'GN3'   , 'BU3' ,'FA3', 'LD3' ,'BZ3' ,'FC3', 'FP3', 'RP3', 'PP3' ,'KA3',\n",
    "#                 'SC3' ,'TS3' ,'NV3' ,'MA3' ,'LB3', 'AF3', 'HU3' ,'Price3', 'CC4', 'GN4', 'NS4', 'BU4' ,'FA4', 'LD4',\n",
    "#                 'BZ4' ,'FC4' ,'FP4' ,'RP4', 'PP4' ,'KA4', 'SC4' ,'TS4' ,'NV4', 'MA4', 'LB4', 'AF4' ,'HU4', 'Price4',\n",
    "#                 'segmentind' ,'year', 'yearind','milesa','nighta' , 'pparkind','genderind', \n",
    "#                 'agea','educind', 'regionind', 'Urbind', 'incomea' , 'Choice')]"
   ]
  },
  {
   "cell_type": "code",
   "execution_count": 4,
   "metadata": {},
   "outputs": [],
   "source": [
    "# dat <- safety[c(1:83,85:87,89,90,92,93,95,97,99,100,102,104,106,108,109,114)]\n",
    "dat <-safety[c('Case','No','Task','CC1','GN1','NS1','BU1', 'FA1' ,'LD1', 'BZ1', 'FC1', 'FP1', 'RP1' ,'PP1' ,\n",
    "                'KA1', 'SC1', 'TS1', 'NV1', 'MA1', 'LB1' ,'AF1' ,'HU1' ,'Price1' ,'CC2' ,'GN2', 'NS2', 'BU2' ,\n",
    "                'FA2', 'LD2', 'BZ2', 'FC2', 'FP2', 'RP2' ,'PP2', 'KA2' ,'SC2' ,'TS2' ,'NV2', 'MA2' ,'LB2', 'AF2' ,\n",
    "                'HU2', 'Price2' ,'CC3' ,'GN3', 'NS3', 'BU3' ,'FA3', 'LD3' ,'BZ3' ,'FC3', 'FP3', 'RP3', 'PP3' ,'KA3',\n",
    "                'SC3' ,'TS3' ,'NV3' ,'MA3' ,'LB3', 'AF3', 'HU3' ,'Price3', 'CC4', 'GN4', 'NS4', 'BU4' ,'FA4', 'LD4',\n",
    "                'BZ4' ,'FC4' ,'FP4' ,'RP4', 'PP4' ,'KA4', 'SC4' ,'TS4' ,'NV4', 'MA4', 'LB4', 'AF4' ,'HU4', 'Price4',\n",
    "                'segmentind' , 'yearind','milesind','milesa','nightind','nighta' , 'pparkind','genderind', 'ageind',\n",
    "                'agea','educind', 'regionind', 'Urbind', 'incomeind', 'incomea' , 'Choice')]\n",
    "# data.train.small <- subset(safety, Task<=12)\n",
    "data.train.small <- subset(dat, Case<=600)\n",
    "# import validation set\n",
    "# data.valid <- subset(safety, Task>=13) #nrow=5250\n",
    "data.valid <- subset(safety, Case>600) #nrow=2850\n",
    "# import test set\n",
    "data.test <- read.csv(\"test.csv\")\n",
    "# NROW(data.valid)\n",
    "# NCOL(dat)"
   ]
  },
  {
   "cell_type": "code",
   "execution_count": 5,
   "metadata": {
    "scrolled": true
   },
   "outputs": [
    {
     "data": {
      "text/html": [
       "<table>\n",
       "<thead><tr><th scope=col>Case</th><th scope=col>No</th><th scope=col>Task</th><th scope=col>CC1</th><th scope=col>GN1</th><th scope=col>NS1</th><th scope=col>BU1</th><th scope=col>FA1</th><th scope=col>LD1</th><th scope=col>BZ1</th><th scope=col>⋯</th><th scope=col>pparkind</th><th scope=col>genderind</th><th scope=col>ageind</th><th scope=col>agea</th><th scope=col>educind</th><th scope=col>regionind</th><th scope=col>Urbind</th><th scope=col>incomeind</th><th scope=col>incomea</th><th scope=col>Choice</th></tr></thead>\n",
       "<tbody>\n",
       "\t<tr><td>1    </td><td>1    </td><td>1    </td><td>0    </td><td>1    </td><td>4    </td><td>6    </td><td>0    </td><td>0    </td><td>0    </td><td>⋯    </td><td>1    </td><td>1    </td><td>4    </td><td>53   </td><td>5    </td><td>2    </td><td>2    </td><td>3    </td><td>44500</td><td>1    </td></tr>\n",
       "\t<tr><td>1    </td><td>2    </td><td>2    </td><td>3    </td><td>0    </td><td>0    </td><td>0    </td><td>2    </td><td>2    </td><td>2    </td><td>⋯    </td><td>1    </td><td>1    </td><td>4    </td><td>53   </td><td>5    </td><td>2    </td><td>2    </td><td>3    </td><td>44500</td><td>0    </td></tr>\n",
       "\t<tr><td>1    </td><td>3    </td><td>3    </td><td>1    </td><td>1    </td><td>5    </td><td>0    </td><td>2    </td><td>0    </td><td>3    </td><td>⋯    </td><td>1    </td><td>1    </td><td>4    </td><td>53   </td><td>5    </td><td>2    </td><td>2    </td><td>3    </td><td>44500</td><td>1    </td></tr>\n",
       "\t<tr><td>1    </td><td>4    </td><td>4    </td><td>0    </td><td>0    </td><td>0    </td><td>2    </td><td>0    </td><td>3    </td><td>0    </td><td>⋯    </td><td>1    </td><td>1    </td><td>4    </td><td>53   </td><td>5    </td><td>2    </td><td>2    </td><td>3    </td><td>44500</td><td>1    </td></tr>\n",
       "\t<tr><td>1    </td><td>5    </td><td>5    </td><td>0    </td><td>2    </td><td>2    </td><td>0    </td><td>1    </td><td>2    </td><td>0    </td><td>⋯    </td><td>1    </td><td>1    </td><td>4    </td><td>53   </td><td>5    </td><td>2    </td><td>2    </td><td>3    </td><td>44500</td><td>1    </td></tr>\n",
       "\t<tr><td>1    </td><td>6    </td><td>6    </td><td>3    </td><td>0    </td><td>0    </td><td>5    </td><td>0    </td><td>0    </td><td>1    </td><td>⋯    </td><td>1    </td><td>1    </td><td>4    </td><td>53   </td><td>5    </td><td>2    </td><td>2    </td><td>3    </td><td>44500</td><td>1    </td></tr>\n",
       "</tbody>\n",
       "</table>\n"
      ],
      "text/latex": [
       "\\begin{tabular}{r|lllllllllllllllllllllllllllllllllllllllllllllllllllllllllllllllllllllllllllllllllllllllllllllllllll}\n",
       " Case & No & Task & CC1 & GN1 & NS1 & BU1 & FA1 & LD1 & BZ1 & ⋯ & pparkind & genderind & ageind & agea & educind & regionind & Urbind & incomeind & incomea & Choice\\\\\n",
       "\\hline\n",
       "\t 1     & 1     & 1     & 0     & 1     & 4     & 6     & 0     & 0     & 0     & ⋯     & 1     & 1     & 4     & 53    & 5     & 2     & 2     & 3     & 44500 & 1    \\\\\n",
       "\t 1     & 2     & 2     & 3     & 0     & 0     & 0     & 2     & 2     & 2     & ⋯     & 1     & 1     & 4     & 53    & 5     & 2     & 2     & 3     & 44500 & 0    \\\\\n",
       "\t 1     & 3     & 3     & 1     & 1     & 5     & 0     & 2     & 0     & 3     & ⋯     & 1     & 1     & 4     & 53    & 5     & 2     & 2     & 3     & 44500 & 1    \\\\\n",
       "\t 1     & 4     & 4     & 0     & 0     & 0     & 2     & 0     & 3     & 0     & ⋯     & 1     & 1     & 4     & 53    & 5     & 2     & 2     & 3     & 44500 & 1    \\\\\n",
       "\t 1     & 5     & 5     & 0     & 2     & 2     & 0     & 1     & 2     & 0     & ⋯     & 1     & 1     & 4     & 53    & 5     & 2     & 2     & 3     & 44500 & 1    \\\\\n",
       "\t 1     & 6     & 6     & 3     & 0     & 0     & 5     & 0     & 0     & 1     & ⋯     & 1     & 1     & 4     & 53    & 5     & 2     & 2     & 3     & 44500 & 1    \\\\\n",
       "\\end{tabular}\n"
      ],
      "text/markdown": [
       "\n",
       "Case | No | Task | CC1 | GN1 | NS1 | BU1 | FA1 | LD1 | BZ1 | ⋯ | pparkind | genderind | ageind | agea | educind | regionind | Urbind | incomeind | incomea | Choice | \n",
       "|---|---|---|---|---|---|\n",
       "| 1     | 1     | 1     | 0     | 1     | 4     | 6     | 0     | 0     | 0     | ⋯     | 1     | 1     | 4     | 53    | 5     | 2     | 2     | 3     | 44500 | 1     | \n",
       "| 1     | 2     | 2     | 3     | 0     | 0     | 0     | 2     | 2     | 2     | ⋯     | 1     | 1     | 4     | 53    | 5     | 2     | 2     | 3     | 44500 | 0     | \n",
       "| 1     | 3     | 3     | 1     | 1     | 5     | 0     | 2     | 0     | 3     | ⋯     | 1     | 1     | 4     | 53    | 5     | 2     | 2     | 3     | 44500 | 1     | \n",
       "| 1     | 4     | 4     | 0     | 0     | 0     | 2     | 0     | 3     | 0     | ⋯     | 1     | 1     | 4     | 53    | 5     | 2     | 2     | 3     | 44500 | 1     | \n",
       "| 1     | 5     | 5     | 0     | 2     | 2     | 0     | 1     | 2     | 0     | ⋯     | 1     | 1     | 4     | 53    | 5     | 2     | 2     | 3     | 44500 | 1     | \n",
       "| 1     | 6     | 6     | 3     | 0     | 0     | 5     | 0     | 0     | 1     | ⋯     | 1     | 1     | 4     | 53    | 5     | 2     | 2     | 3     | 44500 | 1     | \n",
       "\n",
       "\n"
      ],
      "text/plain": [
       "  Case No Task CC1 GN1 NS1 BU1 FA1 LD1 BZ1 ⋯ pparkind genderind ageind agea\n",
       "1 1    1  1    0   1   4   6   0   0   0   ⋯ 1        1         4      53  \n",
       "2 1    2  2    3   0   0   0   2   2   2   ⋯ 1        1         4      53  \n",
       "3 1    3  3    1   1   5   0   2   0   3   ⋯ 1        1         4      53  \n",
       "4 1    4  4    0   0   0   2   0   3   0   ⋯ 1        1         4      53  \n",
       "5 1    5  5    0   2   2   0   1   2   0   ⋯ 1        1         4      53  \n",
       "6 1    6  6    3   0   0   5   0   0   1   ⋯ 1        1         4      53  \n",
       "  educind regionind Urbind incomeind incomea Choice\n",
       "1 5       2         2      3         44500   1     \n",
       "2 5       2         2      3         44500   0     \n",
       "3 5       2         2      3         44500   1     \n",
       "4 5       2         2      3         44500   1     \n",
       "5 5       2         2      3         44500   1     \n",
       "6 5       2         2      3         44500   1     "
      ]
     },
     "metadata": {},
     "output_type": "display_data"
    }
   ],
   "source": [
    "head(dat)"
   ]
  },
  {
   "cell_type": "code",
   "execution_count": 6,
   "metadata": {},
   "outputs": [],
   "source": [
    "# Make split index\n",
    "# train_index <- sample(1:nrow(dat), nrow(dat)*0.75)\n",
    "train_index <- (1:11400)\n",
    "data_variables <- as.matrix(subset(dat, select= -c(Case,No,Task,Choice))) \n",
    "data_label <- dat[,\"Choice\"]"
   ]
  },
  {
   "cell_type": "code",
   "execution_count": 7,
   "metadata": {},
   "outputs": [],
   "source": [
    "data_matrix <- xgb.DMatrix(data = as.matrix(dat), label = data_label)\n",
    "# split train data and make xgb.DMatrix\n",
    "train_data   <- data_variables[train_index,]\n",
    "train_label  <- data_label[train_index]\n",
    "train_matrix <- xgb.DMatrix(data = train_data, label = train_label)\n",
    "# split test data and make xgb.DMatrix\n",
    "test_data  <- data_variables[-train_index,]\n",
    "test_label <- data_label[-train_index]\n",
    "test_matrix <- xgb.DMatrix(data = test_data, label = test_label)"
   ]
  },
  {
   "cell_type": "code",
   "execution_count": 8,
   "metadata": {},
   "outputs": [],
   "source": [
    "xgb_params <- list(\"objective\" = \"multi:softprob\",\n",
    "                   \"eval_metric\" = \"mlogloss\",\n",
    "                   \"num_class\" = 4,'eta'=0.001,alpha=5,max_depth = 20,nthread=3) #,'eta'=0.2\n",
    "nround    <- 4000 # number of XGBoost rounds\n",
    "cv.nfold  <- 10\n",
    "\n",
    "# Fit cv.nfold * cv.nround XGB models and save OOF predictions\n",
    "# cv_model <- xgb.cv(params = xgb_params,\n",
    "#                    data = train_matrix, \n",
    "#                    nrounds = nround,\n",
    "#                    nfold = cv.nfold,\n",
    "#                    verbose = FALSE,\n",
    "#                    prediction = TRUE,print.every.n = 100)"
   ]
  },
  {
   "cell_type": "code",
   "execution_count": 9,
   "metadata": {},
   "outputs": [
    {
     "ename": "ERROR",
     "evalue": "Error in data.frame(cv_model$pred): object 'cv_model' not found\n",
     "output_type": "error",
     "traceback": [
      "Error in data.frame(cv_model$pred): object 'cv_model' not found\nTraceback:\n",
      "1. data.frame(cv_model$pred) %>% mutate(max_prob = max.col(., ties.method = \"last\"), \n .     label = train_label + 1)",
      "2. eval(lhs, parent, parent)",
      "3. eval(lhs, parent, parent)",
      "4. data.frame(cv_model$pred)"
     ]
    }
   ],
   "source": [
    "# OOF_prediction <- data.frame(cv_model$pred) %>%\n",
    "#   mutate(max_prob = max.col(., ties.method = \"last\"),\n",
    "#          label = train_label + 1)\n",
    "# head(OOF_prediction)"
   ]
  },
  {
   "cell_type": "code",
   "execution_count": 10,
   "metadata": {},
   "outputs": [
    {
     "ename": "ERROR",
     "evalue": "Error in mean(log(pred[model.matrix(~actual + 0) - pred > 0])): object 'OOF_prediction' not found\n",
     "output_type": "error",
     "traceback": [
      "Error in mean(log(pred[model.matrix(~actual + 0) - pred > 0])): object 'OOF_prediction' not found\nTraceback:\n",
      "1. logLoss(OOF_prediction[, c(1:4)], OOF_prediction$label)",
      "2. mean(log(pred[model.matrix(~actual + 0) - pred > 0]))   # at line 3 of file <text>"
     ]
    }
   ],
   "source": [
    "logLoss(OOF_prediction[,c(1:4)],OOF_prediction$label)\n",
    "#boost=50, fold=5 1.84116935344035\n",
    "#boost=100, fold=10 2.05634656583104 \n",
    "#boost=100, fold=5 2.08338357311609\n",
    "#boost=80, fold=5 1.98991888707679\n",
    "#boost=50, fold=10 1.83534185255931\n",
    "#boost=20, fold=10 1.66667567864521\n",
    "#boost=5, fold=10 1.4759499524694 \n",
    "#boost=1, fold=10 1.39543453666543 0.4635\n",
    "#boost=5, fold=10 1.38629457338748 0.4683 'eta'=0.003,alpha=1 too conservative\n",
    "#boost=5, fold=10 1.43521209844477 0.4932 'eta'=0.2,alpha=1\n",
    "#boost=1000, fold=10 1.55922221482964 0.5553 'eta'=0.003,alpha=5,maxdepth=10 about 1 hour"
   ]
  },
  {
   "cell_type": "code",
   "execution_count": null,
   "metadata": {
    "scrolled": true
   },
   "outputs": [],
   "source": [
    "confusionMatrix(factor(OOF_prediction$max_prob),\n",
    "                factor(OOF_prediction$label),\n",
    "                mode = \"everything\")"
   ]
  },
  {
   "cell_type": "markdown",
   "metadata": {},
   "source": [
    "### Train Full Model and Assess Test Set Error"
   ]
  },
  {
   "cell_type": "code",
   "execution_count": 11,
   "metadata": {
    "scrolled": true
   },
   "outputs": [
    {
     "ename": "ERROR",
     "evalue": "Error in matrix(test_pred, nrow = numberOfClasses, ncol = length(test_pred)/numberOfClasses): object 'numberOfClasses' not found\n",
     "output_type": "error",
     "traceback": [
      "Error in matrix(test_pred, nrow = numberOfClasses, ncol = length(test_pred)/numberOfClasses): object 'numberOfClasses' not found\nTraceback:\n",
      "1. matrix(test_pred, nrow = numberOfClasses, ncol = length(test_pred)/numberOfClasses) %>% \n .     t() %>% data.frame() %>% mutate(label = test_label + 1, max_prob = max.col(., \n .     \"last\"))",
      "2. eval(lhs, parent, parent)",
      "3. eval(lhs, parent, parent)",
      "4. matrix(test_pred, nrow = numberOfClasses, ncol = length(test_pred)/numberOfClasses)"
     ]
    }
   ],
   "source": [
    "bst_model <- xgb.train(params = xgb_params,\n",
    "                       data = train_matrix,\n",
    "                       nrounds = nround,verbose = FALSE,print_every_n = 100)\n",
    "\n",
    "#started at 2330, end at 0020\n",
    "#started at 0025, end at "
   ]
  },
  {
   "cell_type": "code",
   "execution_count": 12,
   "metadata": {},
   "outputs": [
    {
     "data": {
      "text/plain": [
       "Confusion Matrix and Statistics\n",
       "\n",
       "          Reference\n",
       "Prediction   1   2   3   4\n",
       "         1 296  77  84 138\n",
       "         2 112 392 116 198\n",
       "         3  79  87 304 152\n",
       "         4 160 143 130 382\n",
       "\n",
       "Overall Statistics\n",
       "                                          \n",
       "               Accuracy : 0.4821          \n",
       "                 95% CI : (0.4636, 0.5006)\n",
       "    No Information Rate : 0.3053          \n",
       "    P-Value [Acc > NIR] : < 2.2e-16       \n",
       "                                          \n",
       "                  Kappa : 0.3061          \n",
       " Mcnemar's Test P-Value : 0.0008001       \n",
       "\n",
       "Statistics by Class:\n",
       "\n",
       "                     Class: 1 Class: 2 Class: 3 Class: 4\n",
       "Sensitivity            0.4575   0.5608   0.4795   0.4391\n",
       "Specificity            0.8643   0.8020   0.8565   0.7813\n",
       "Pos Pred Value         0.4975   0.4792   0.4887   0.4687\n",
       "Neg Pred Value         0.8443   0.8489   0.8519   0.7602\n",
       "Precision              0.4975   0.4792   0.4887   0.4687\n",
       "Recall                 0.4575   0.5608   0.4795   0.4391\n",
       "F1                     0.4767   0.5168   0.4841   0.4534\n",
       "Prevalence             0.2270   0.2453   0.2225   0.3053\n",
       "Detection Rate         0.1039   0.1375   0.1067   0.1340\n",
       "Detection Prevalence   0.2088   0.2870   0.2182   0.2860\n",
       "Balanced Accuracy      0.6609   0.6814   0.6680   0.6102"
      ]
     },
     "metadata": {},
     "output_type": "display_data"
    }
   ],
   "source": [
    "# Predict hold-out test set\n",
    "test_pred <- predict(bst_model, newdata = test_matrix)\n",
    "test_prediction <- matrix(test_pred, nrow = 4,\n",
    "                          ncol=length(test_pred)/4) %>%\n",
    "  t() %>%\n",
    "  data.frame() %>%\n",
    "  mutate(label = test_label + 1,\n",
    "         max_prob = max.col(., \"last\"))\n",
    "# confusion matrix of test set\n",
    "confusionMatrix(factor(test_prediction$max_prob),\n",
    "                factor(test_prediction$label),\n",
    "                mode = \"everything\")"
   ]
  },
  {
   "cell_type": "code",
   "execution_count": 13,
   "metadata": {
    "scrolled": false
   },
   "outputs": [
    {
     "data": {
      "text/html": [
       "<table>\n",
       "<thead><tr><th scope=col>X1</th><th scope=col>X2</th><th scope=col>X3</th><th scope=col>X4</th><th scope=col>label</th><th scope=col>max_prob</th></tr></thead>\n",
       "<tbody>\n",
       "\t<tr><td>0.14459905</td><td>0.14532855</td><td>0.61468548</td><td>0.09538695</td><td>3         </td><td>3         </td></tr>\n",
       "\t<tr><td>0.09164417</td><td>0.69487989</td><td>0.07945108</td><td>0.13402487</td><td>2         </td><td>2         </td></tr>\n",
       "\t<tr><td>0.13957034</td><td>0.09824861</td><td>0.12409408</td><td>0.63808692</td><td>4         </td><td>4         </td></tr>\n",
       "\t<tr><td>0.09830456</td><td>0.33668357</td><td>0.18008678</td><td>0.38492507</td><td>2         </td><td>4         </td></tr>\n",
       "\t<tr><td>0.09456966</td><td>0.38244921</td><td>0.07798176</td><td>0.44499940</td><td>4         </td><td>4         </td></tr>\n",
       "\t<tr><td>0.10063786</td><td>0.06057533</td><td>0.65492260</td><td>0.18386424</td><td>3         </td><td>3         </td></tr>\n",
       "</tbody>\n",
       "</table>\n"
      ],
      "text/latex": [
       "\\begin{tabular}{r|llllll}\n",
       " X1 & X2 & X3 & X4 & label & max\\_prob\\\\\n",
       "\\hline\n",
       "\t 0.14459905 & 0.14532855 & 0.61468548 & 0.09538695 & 3          & 3         \\\\\n",
       "\t 0.09164417 & 0.69487989 & 0.07945108 & 0.13402487 & 2          & 2         \\\\\n",
       "\t 0.13957034 & 0.09824861 & 0.12409408 & 0.63808692 & 4          & 4         \\\\\n",
       "\t 0.09830456 & 0.33668357 & 0.18008678 & 0.38492507 & 2          & 4         \\\\\n",
       "\t 0.09456966 & 0.38244921 & 0.07798176 & 0.44499940 & 4          & 4         \\\\\n",
       "\t 0.10063786 & 0.06057533 & 0.65492260 & 0.18386424 & 3          & 3         \\\\\n",
       "\\end{tabular}\n"
      ],
      "text/markdown": [
       "\n",
       "X1 | X2 | X3 | X4 | label | max_prob | \n",
       "|---|---|---|---|---|---|\n",
       "| 0.14459905 | 0.14532855 | 0.61468548 | 0.09538695 | 3          | 3          | \n",
       "| 0.09164417 | 0.69487989 | 0.07945108 | 0.13402487 | 2          | 2          | \n",
       "| 0.13957034 | 0.09824861 | 0.12409408 | 0.63808692 | 4          | 4          | \n",
       "| 0.09830456 | 0.33668357 | 0.18008678 | 0.38492507 | 2          | 4          | \n",
       "| 0.09456966 | 0.38244921 | 0.07798176 | 0.44499940 | 4          | 4          | \n",
       "| 0.10063786 | 0.06057533 | 0.65492260 | 0.18386424 | 3          | 3          | \n",
       "\n",
       "\n"
      ],
      "text/plain": [
       "  X1         X2         X3         X4         label max_prob\n",
       "1 0.14459905 0.14532855 0.61468548 0.09538695 3     3       \n",
       "2 0.09164417 0.69487989 0.07945108 0.13402487 2     2       \n",
       "3 0.13957034 0.09824861 0.12409408 0.63808692 4     4       \n",
       "4 0.09830456 0.33668357 0.18008678 0.38492507 2     4       \n",
       "5 0.09456966 0.38244921 0.07798176 0.44499940 4     4       \n",
       "6 0.10063786 0.06057533 0.65492260 0.18386424 3     3       "
      ]
     },
     "metadata": {},
     "output_type": "display_data"
    },
    {
     "data": {
      "text/html": [
       "1.58738271588276"
      ],
      "text/latex": [
       "1.58738271588276"
      ],
      "text/markdown": [
       "1.58738271588276"
      ],
      "text/plain": [
       "[1] 1.587383"
      ]
     },
     "metadata": {},
     "output_type": "display_data"
    }
   ],
   "source": [
    "head(test_prediction)\n",
    "logLoss(test_prediction[,c(1:4)],test_prediction$label)\n",
    "# 1.38629458008731\n",
    "#nrounds=1000 1.54511870127743 \n",
    "#nrounds=4000 1.5848540447609"
   ]
  },
  {
   "cell_type": "code",
   "execution_count": null,
   "metadata": {
    "scrolled": true
   },
   "outputs": [],
   "source": [
    "# get the feature real names\n",
    "names <-  colnames(dat[,-c(1,2,3)])\n",
    "# compute feature importance matrix\n",
    "importance_matrix = xgb.importance(model = bst_model)\n",
    "NROW(importance_matrix)\n",
    "tail(importance_matrix)"
   ]
  },
  {
   "cell_type": "code",
   "execution_count": null,
   "metadata": {},
   "outputs": [],
   "source": [
    "# plot\n",
    "gp = xgb.ggplot.importance(importance_matrix)\n",
    "print(gp) "
   ]
  },
  {
   "cell_type": "code",
   "execution_count": null,
   "metadata": {},
   "outputs": [],
   "source": [
    "# removed_vector<-c('NS1','LB2','LD1','FC1','MA1','KA2','GN2','FC2','NS3','incomeind','milesind','nightind','ageind')"
   ]
  },
  {
   "cell_type": "code",
   "execution_count": null,
   "metadata": {},
   "outputs": [],
   "source": [
    "# plot them features! what's contributing most to our model?\n",
    "# xgb.plot.multi.trees(model = bst_model)"
   ]
  },
  {
   "cell_type": "code",
   "execution_count": null,
   "metadata": {},
   "outputs": [],
   "source": []
  },
  {
   "cell_type": "code",
   "execution_count": null,
   "metadata": {},
   "outputs": [],
   "source": []
  },
  {
   "cell_type": "markdown",
   "metadata": {},
   "source": [
    "### for submission"
   ]
  },
  {
   "cell_type": "code",
   "execution_count": 1,
   "metadata": {},
   "outputs": [
    {
     "ename": "ERROR",
     "evalue": "Error in eval(expr, envir, enclos): object 'data.test' not found\n",
     "output_type": "error",
     "traceback": [
      "Error in eval(expr, envir, enclos): object 'data.test' not found\nTraceback:\n"
     ]
    }
   ],
   "source": [
    "# adding values to `Ch` andd `Choice` levels to prevent errors\n",
    "# data.test[,c(\"Ch1\", \"Ch2\", \"Ch3\", \"Ch4\")] <- 1\n",
    "# data.test[,c(\"Choice\")] <- \"Ch1\"\n",
    "\n",
    "data.test <- data.test[c('Case','No','Task','CC1','GN1','NS1','BU1', 'FA1' ,'LD1', 'BZ1', 'FC1', 'FP1', 'RP1' ,'PP1' ,\n",
    "                'KA1', 'SC1', 'TS1', 'NV1', 'MA1', 'LB1' ,'AF1' ,'HU1' ,'Price1' ,'CC2' ,'GN2', 'NS2', 'BU2' ,\n",
    "                'FA2', 'LD2', 'BZ2', 'FC2', 'FP2', 'RP2' ,'PP2', 'KA2' ,'SC2' ,'TS2' ,'NV2', 'MA2' ,'LB2', 'AF2' ,\n",
    "                'HU2', 'Price2' ,'CC3' ,'GN3', 'NS3', 'BU3' ,'FA3', 'LD3' ,'BZ3' ,'FC3', 'FP3', 'RP3', 'PP3' ,'KA3',\n",
    "                'SC3' ,'TS3' ,'NV3' ,'MA3' ,'LB3', 'AF3', 'HU3' ,'Price3', 'CC4', 'GN4', 'NS4', 'BU4' ,'FA4', 'LD4',\n",
    "                'BZ4' ,'FC4' ,'FP4' ,'RP4', 'PP4' ,'KA4', 'SC4' ,'TS4' ,'NV4', 'MA4', 'LB4', 'AF4' ,'HU4', 'Price4',\n",
    "                'segmentind' , 'yearind','milesind','milesa','nightind','nighta' , 'pparkind','genderind', 'ageind',\n",
    "                'agea','educind', 'regionind', 'Urbind', 'incomeind', 'incomea' )]\n",
    "data.test_variables <- as.matrix(subset(data.test, select= -c(Case,No,Task))) \n",
    "data.test_matrix <- xgb.DMatrix(data = data.test_variables)\n",
    "data_matrix <- xgb.DMatrix(data = data_variables, label = data_label)\n",
    "\n",
    "bst_model <- xgb.train(params = xgb_params,\n",
    "                       data = data_matrix ,\n",
    "                       nrounds = nround)\n",
    "# Predict on test set\n",
    "test_pred <- predict(bst_model, newdata = data.test_matrix,label = data_label)\n",
    "test_prediction <- matrix(test_pred, nrow = 4,\n",
    "                          ncol=length(test_pred)/4)\n",
    "\n",
    "# predicting on validation set \n",
    "data.test[,c('Ch1','Ch2','Ch3','Ch4')]<-test_prediction\n",
    "submission<-data.test[,c('No','Ch1','Ch2','Ch3','Ch4')]\n",
    "head(submission)\n"
   ]
  },
  {
   "cell_type": "code",
   "execution_count": 2,
   "metadata": {},
   "outputs": [],
   "source": [
    "# write.csv(submission, file = \"submission1.54.csv\",row.names=FALSE)"
   ]
  },
  {
   "cell_type": "code",
   "execution_count": null,
   "metadata": {},
   "outputs": [],
   "source": []
  },
  {
   "cell_type": "code",
   "execution_count": null,
   "metadata": {},
   "outputs": [],
   "source": []
  }
 ],
 "metadata": {
  "kernelspec": {
   "display_name": "R",
   "language": "R",
   "name": "ir"
  },
  "language_info": {
   "codemirror_mode": "r",
   "file_extension": ".r",
   "mimetype": "text/x-r-source",
   "name": "R",
   "pygments_lexer": "r",
   "version": "3.5.0"
  }
 },
 "nbformat": 4,
 "nbformat_minor": 2
}
